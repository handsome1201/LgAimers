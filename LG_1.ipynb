{
  "nbformat": 4,
  "nbformat_minor": 0,
  "metadata": {
    "colab": {
      "provenance": [],
      "machine_shape": "hm",
      "mount_file_id": "1GUHxlEe5fLdTzS3A6s6k2cvZi6SrWtAN",
      "authorship_tag": "ABX9TyPRaOLXYWzhsHb1EYwHc90P",
      "include_colab_link": true
    },
    "kernelspec": {
      "name": "python3",
      "display_name": "Python 3"
    },
    "language_info": {
      "name": "python"
    }
  },
  "cells": [
    {
      "cell_type": "markdown",
      "metadata": {
        "id": "view-in-github",
        "colab_type": "text"
      },
      "source": [
        "<a href=\"https://colab.research.google.com/github/handsome1201/LgAimers/blob/main/LG_1.ipynb\" target=\"_parent\"><img src=\"https://colab.research.google.com/assets/colab-badge.svg\" alt=\"Open In Colab\"/></a>"
      ]
    },
    {
      "cell_type": "code",
      "source": [
        "import pandas as pd\n",
        "import numpy as np\n",
        "from sklearn.preprocessing import MinMaxScaler\n",
        "from keras.models import Sequential\n",
        "from keras.layers import LSTM, Dense\n",
        "import matplotlib.pyplot as plt"
      ],
      "metadata": {
        "id": "j8TgFOB8qAWA"
      },
      "execution_count": 50,
      "outputs": []
    },
    {
      "cell_type": "code",
      "source": [
        "train_data = pd.read_csv('/content/drive/MyDrive/LGAI/train.csv')"
      ],
      "metadata": {
        "id": "XvZoflN456nK"
      },
      "execution_count": 51,
      "outputs": []
    },
    {
      "cell_type": "code",
      "source": [
        "train_data = pd.read_csv('/content/drive/MyDrive/LGAI/train.csv').drop(columns=['제품','대분류','중분류','소분류','브랜드'])"
      ],
      "metadata": {
        "id": "JTxZ8yjY5-j7"
      },
      "execution_count": 52,
      "outputs": []
    },
    {
      "cell_type": "code",
      "source": [
        "scaler = MinMaxScaler()\n",
        "scaled_train = scaler.fit_transform(train_data.values.reshape(-1, 1))"
      ],
      "metadata": {
        "id": "07HeXtcy6ENR"
      },
      "execution_count": 53,
      "outputs": []
    },
    {
      "cell_type": "code",
      "source": [
        "sequence_length = 21  # 시퀀스 길이 (과거 일수)\n",
        "X_train = []\n",
        "y_train = []\n",
        "for i in range(len(scaled_train) - sequence_length):\n",
        "    X_train.append(scaled_train[i:i+sequence_length])\n",
        "    y_train.append(scaled_train[i+sequence_length])\n",
        "X_train = np.array(X_train)\n",
        "y_train = np.array(y_train)\n",
        "\n",
        "# LSTM 모델 생성\n",
        "model = Sequential()\n",
        "model.add(LSTM(units=50, activation='relu', input_shape=(X_train.shape[1], 1)))\n",
        "model.add(Dense(units=1))\n",
        "model.compile(optimizer='adam', loss='mean_squared_error')"
      ],
      "metadata": {
        "id": "3ArSQoX5Pnzb"
      },
      "execution_count": 54,
      "outputs": []
    },
    {
      "cell_type": "code",
      "source": [
        "model.fit(X_train, y_train, epochs=50, batch_size=32)\n",
        "\n",
        "# 예측을 위한 test 데이터 생성\n",
        "last_sequence = scaled_train[-sequence_length:]\n",
        "X_test = []\n",
        "for _ in range(21):\n",
        "    X_test.append(last_sequence[-sequence_length:])\n",
        "    predicted_value = model.predict(np.array([last_sequence]))\n",
        "    last_sequence = np.concatenate((last_sequence[1:], predicted_value), axis=0)\n",
        "X_test = np.array(X_test)\n",
        "\n",
        "# 예측 수행\n",
        "predicted_scaled = model.predict(X_test)\n",
        "predicted_sales = scaler.inverse_transform(predicted_scaled)\n"
      ],
      "metadata": {
        "colab": {
          "base_uri": "https://localhost:8080/"
        },
        "id": "4ZgSGChVQf1m",
        "outputId": "1a8ca17b-79ac-4260-9cec-7f0eba566826"
      },
      "execution_count": null,
      "outputs": [
        {
          "output_type": "stream",
          "name": "stdout",
          "text": [
            "Epoch 1/50\n",
            "108854/228419 [=============>................] - ETA: 23:08 - loss: 5.7715e-06"
          ]
        }
      ]
    },
    {
      "cell_type": "code",
      "source": [
        "# 예측 결과를 DataFrame으로 변환\n",
        "predicted_df = pd.DataFrame({'Predicted_Sales': predicted_sales.reshape(-1)})\n",
        "\n",
        "# 예측 결과를 CSV 파일로 저장\n",
        "predicted_df.to_csv('predicted_results.csv', index=False)"
      ],
      "metadata": {
        "id": "5dY38NvOaoHd"
      },
      "execution_count": null,
      "outputs": []
    },
    {
      "cell_type": "code",
      "source": [],
      "metadata": {
        "id": "CgKCgzP9atse"
      },
      "execution_count": null,
      "outputs": []
    }
  ]
}